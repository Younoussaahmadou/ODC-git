{
 "cells": [
  {
   "cell_type": "code",
   "execution_count": 3,
   "id": "d97c110c",
   "metadata": {},
   "outputs": [],
   "source": [
    "import numpy as np\n",
    "#import random"
   ]
  },
  {
   "cell_type": "code",
   "execution_count": 2,
   "id": "e34a0060",
   "metadata": {},
   "outputs": [
    {
     "data": {
      "text/plain": [
       "[2, 4, 6]"
      ]
     },
     "execution_count": 2,
     "metadata": {},
     "output_type": "execute_result"
    }
   ],
   "source": [
    "a = [1, 2, 3]\n",
    "[q*2 for q in a]"
   ]
  },
  {
   "cell_type": "code",
   "execution_count": 9,
   "id": "2de74cfd",
   "metadata": {},
   "outputs": [
    {
     "data": {
      "text/plain": [
       "array([2, 4, 6])"
      ]
     },
     "execution_count": 9,
     "metadata": {},
     "output_type": "execute_result"
    }
   ],
   "source": [
    "\n",
    "a = np.array([1, 2, 3])\n",
    "a * 2"
   ]
  },
  {
   "cell_type": "code",
   "execution_count": 11,
   "id": "4375cdda",
   "metadata": {},
   "outputs": [
    {
     "data": {
      "text/plain": [
       "[5, 7, 9]"
      ]
     },
     "execution_count": 11,
     "metadata": {},
     "output_type": "execute_result"
    }
   ],
   "source": [
    "a = [1, 2, 3]\n",
    "b = [4, 5, 6]\n",
    "[q + r for q, r in zip(a, b)]"
   ]
  },
  {
   "cell_type": "code",
   "execution_count": 13,
   "id": "8513f70b",
   "metadata": {},
   "outputs": [
    {
     "data": {
      "text/plain": [
       "array([5, 7, 9])"
      ]
     },
     "execution_count": 13,
     "metadata": {},
     "output_type": "execute_result"
    }
   ],
   "source": [
    "a = np.array([1, 2, 3])\n",
    "b = np.array([4, 5, 6])\n",
    "a + b"
   ]
  },
  {
   "cell_type": "code",
   "execution_count": 30,
   "id": "afa8e60a",
   "metadata": {},
   "outputs": [
    {
     "data": {
      "text/plain": [
       "array([0, 0, 0, 0])"
      ]
     },
     "execution_count": 30,
     "metadata": {},
     "output_type": "execute_result"
    }
   ],
   "source": [
    "a = np.zeros(4, int)\n",
    "a"
   ]
  },
  {
   "cell_type": "code",
   "execution_count": 21,
   "id": "7cfc4ca1",
   "metadata": {},
   "outputs": [
    {
     "data": {
      "text/plain": [
       "array([0., 0., 0., 0.])"
      ]
     },
     "execution_count": 21,
     "metadata": {},
     "output_type": "execute_result"
    }
   ],
   "source": [
    "c = np.zeros_like(a).astype(float)\n",
    "c"
   ]
  },
  {
   "cell_type": "code",
   "execution_count": 46,
   "id": "3b66b5a9",
   "metadata": {},
   "outputs": [
    {
     "data": {
      "text/plain": [
       "array([   1,    4,    7, ..., 9991, 9994, 9997])"
      ]
     },
     "execution_count": 46,
     "metadata": {},
     "output_type": "execute_result"
    }
   ],
   "source": [
    "a = np.arange(1, 10000, 3)\n",
    "a"
   ]
  },
  {
   "cell_type": "code",
   "execution_count": 36,
   "id": "f48f4f7f",
   "metadata": {},
   "outputs": [
    {
     "data": {
      "text/plain": [
       "[array([7, 1, 1])]"
      ]
     },
     "execution_count": 36,
     "metadata": {},
     "output_type": "execute_result"
    }
   ],
   "source": [
    "l = [np.random.randint(0, 10, 3)]\n",
    "l"
   ]
  },
  {
   "cell_type": "code",
   "execution_count": 38,
   "id": "c98dedba",
   "metadata": {},
   "outputs": [
    {
     "data": {
      "text/plain": [
       "[array([0.66755945, 0.31911986, 0.84208116, 0.95659197, 0.62789225,\n",
       "        0.65256634])]"
      ]
     },
     "execution_count": 38,
     "metadata": {},
     "output_type": "execute_result"
    }
   ],
   "source": [
    "b = [np.random.rand(6)]\n",
    "b"
   ]
  },
  {
   "cell_type": "code",
   "execution_count": 40,
   "id": "c9743479",
   "metadata": {},
   "outputs": [
    {
     "data": {
      "text/plain": [
       "[array([-0.03205997,  0.2806709 ,  1.16311887,  0.24667396, -1.87459887,\n",
       "        -1.88690852])]"
      ]
     },
     "execution_count": 40,
     "metadata": {},
     "output_type": "execute_result"
    }
   ],
   "source": [
    "b = [np.random.randn(6)]\n",
    "b"
   ]
  },
  {
   "cell_type": "code",
   "execution_count": 44,
   "id": "a39fc5f0",
   "metadata": {},
   "outputs": [
    {
     "data": {
      "text/plain": [
       "[array([4.31144852, 4.29050348, 4.68439348, 4.62522492, 4.88928837,\n",
       "        4.9310835 , 4.88611895])]"
      ]
     },
     "execution_count": 44,
     "metadata": {},
     "output_type": "execute_result"
    }
   ],
   "source": [
    "b = [np.random.uniform(4,5,7)]\n",
    "b"
   ]
  },
  {
   "cell_type": "code",
   "execution_count": 52,
   "id": "70fdcc2b",
   "metadata": {},
   "outputs": [
    {
     "data": {
      "text/plain": [
       "[array([4.63343229, 3.55598464, 3.61215767, 2.6601184 , 5.5108224 ,\n",
       "        5.11554529, 5.90193995])]"
      ]
     },
     "execution_count": 52,
     "metadata": {},
     "output_type": "execute_result"
    }
   ],
   "source": [
    "c = [np.random.normal(5,2,7)]\n",
    "c"
   ]
  },
  {
   "cell_type": "code",
   "execution_count": 57,
   "id": "c3a057eb",
   "metadata": {},
   "outputs": [],
   "source": [
    "rng = np.random.default_rng()"
   ]
  },
  {
   "cell_type": "code",
   "execution_count": 58,
   "id": "b31b530f",
   "metadata": {},
   "outputs": [
    {
     "data": {
      "text/plain": [
       "array([ 9, 12, 11,  9,  0, 13], dtype=int64)"
      ]
     },
     "execution_count": 58,
     "metadata": {},
     "output_type": "execute_result"
    }
   ],
   "source": [
    "rng.integers(0,20,6)"
   ]
  },
  {
   "cell_type": "code",
   "execution_count": 61,
   "id": "fd0a9acf",
   "metadata": {},
   "outputs": [
    {
     "data": {
      "text/plain": [
       "array([0.94117748, 0.65078958, 0.41553446])"
      ]
     },
     "execution_count": 61,
     "metadata": {},
     "output_type": "execute_result"
    }
   ],
   "source": [
    "rng.random(3)"
   ]
  },
  {
   "cell_type": "code",
   "execution_count": 64,
   "id": "2e5e50a6",
   "metadata": {},
   "outputs": [
    {
     "data": {
      "text/plain": [
       "array([-1.183447  , -0.89001483,  1.27441416])"
      ]
     },
     "execution_count": 64,
     "metadata": {},
     "output_type": "execute_result"
    }
   ],
   "source": [
    "rng.standard_normal(3)"
   ]
  },
  {
   "cell_type": "code",
   "execution_count": 75,
   "id": "6137f791",
   "metadata": {},
   "outputs": [
    {
     "data": {
      "text/plain": [
       "[2, 5, 5, 9]"
      ]
     },
     "execution_count": 75,
     "metadata": {},
     "output_type": "execute_result"
    }
   ],
   "source": [
    "a = [2,5,3]\n",
    "a [2:5] = [5,9]\n",
    "a"
   ]
  },
  {
   "cell_type": "code",
   "execution_count": 76,
   "id": "d9ae40c0",
   "metadata": {},
   "outputs": [
    {
     "data": {
      "text/plain": [
       "array([5., 3.])"
      ]
     },
     "execution_count": 76,
     "metadata": {},
     "output_type": "execute_result"
    }
   ],
   "source": [
    "np.sqrt([25,9])"
   ]
  },
  {
   "cell_type": "code",
   "execution_count": 52,
   "id": "8b14130f",
   "metadata": {},
   "outputs": [
    {
     "data": {
      "text/plain": [
       "89"
      ]
     },
     "execution_count": 52,
     "metadata": {},
     "output_type": "execute_result"
    }
   ],
   "source": [
    "np.max([6,76,89, 1])"
   ]
  },
  {
   "cell_type": "code",
   "execution_count": 79,
   "id": "86e39638",
   "metadata": {},
   "outputs": [
    {
     "data": {
      "text/plain": [
       "1"
      ]
     },
     "execution_count": 79,
     "metadata": {},
     "output_type": "execute_result"
    }
   ],
   "source": [
    "np.min([6,76,89, 1])"
   ]
  },
  {
   "cell_type": "code",
   "execution_count": 81,
   "id": "ff3dd657",
   "metadata": {},
   "outputs": [
    {
     "data": {
      "text/plain": [
       "172"
      ]
     },
     "execution_count": 81,
     "metadata": {},
     "output_type": "execute_result"
    }
   ],
   "source": [
    "np.sum([6,76,89, 1])"
   ]
  },
  {
   "cell_type": "code",
   "execution_count": 84,
   "id": "fe299b78",
   "metadata": {},
   "outputs": [],
   "source": [
    "import math"
   ]
  },
  {
   "cell_type": "code",
   "execution_count": 59,
   "id": "cb780407",
   "metadata": {},
   "outputs": [
    {
     "data": {
      "text/plain": [
       "array([[0],\n",
       "       [1],\n",
       "       [2],\n",
       "       [3],\n",
       "       [4],\n",
       "       [5]])"
      ]
     },
     "execution_count": 59,
     "metadata": {},
     "output_type": "execute_result"
    }
   ],
   "source": [
    "a = np.arange(6)\n",
    "b = a.reshape(-1,1)\n",
    "b"
   ]
  },
  {
   "cell_type": "code",
   "execution_count": 6,
   "id": "b05b6f3b",
   "metadata": {},
   "outputs": [
    {
     "data": {
      "text/plain": [
       "True"
      ]
     },
     "execution_count": 6,
     "metadata": {},
     "output_type": "execute_result"
    }
   ],
   "source": [
    "np.allclose(0,2+0,8-0,1,0)"
   ]
  },
  {
   "cell_type": "code",
   "execution_count": 9,
   "id": "ca18f14a",
   "metadata": {},
   "outputs": [
    {
     "data": {
      "text/plain": [
       "array([[0., 0.],\n",
       "       [0., 0.],\n",
       "       [0., 0.]])"
      ]
     },
     "execution_count": 9,
     "metadata": {},
     "output_type": "execute_result"
    }
   ],
   "source": [
    "np.zeros((3,2))"
   ]
  },
  {
   "cell_type": "code",
   "execution_count": 16,
   "id": "07075b44",
   "metadata": {},
   "outputs": [
    {
     "data": {
      "text/plain": [
       "array([[1., 0., 0.],\n",
       "       [0., 1., 0.],\n",
       "       [0., 0., 1.]])"
      ]
     },
     "execution_count": 16,
     "metadata": {},
     "output_type": "execute_result"
    }
   ],
   "source": [
    "np.eye(3,3)"
   ]
  },
  {
   "cell_type": "code",
   "execution_count": 18,
   "id": "dec210bd",
   "metadata": {},
   "outputs": [
    {
     "data": {
      "text/plain": [
       "array([[1., 1., 1.],\n",
       "       [1., 1., 1.],\n",
       "       [1., 1., 1.]])"
      ]
     },
     "execution_count": 18,
     "metadata": {},
     "output_type": "execute_result"
    }
   ],
   "source": [
    "np.ones((3,3))"
   ]
  },
  {
   "cell_type": "code",
   "execution_count": 22,
   "id": "8c1ea053",
   "metadata": {},
   "outputs": [
    {
     "data": {
      "text/plain": [
       "array([[19, 16,  9],\n",
       "       [ 6,  7, 14],\n",
       "       [12, 10,  6]])"
      ]
     },
     "execution_count": 22,
     "metadata": {},
     "output_type": "execute_result"
    }
   ],
   "source": [
    "np.random.randint(1,20, (3,3))"
   ]
  },
  {
   "cell_type": "raw",
   "id": "0befca22",
   "metadata": {},
   "source": [
    "a = [1,2,3,4,5,6]\n",
    "b = a.reshape(1,-1)\n",
    "print(b)"
   ]
  },
  {
   "cell_type": "code",
   "execution_count": 36,
   "id": "39360311",
   "metadata": {},
   "outputs": [
    {
     "data": {
      "text/plain": [
       "array([[ 0,  0,  0,  0,  0],\n",
       "       [ 0, 10, 13, 16,  0],\n",
       "       [ 0, 11, 14, 17,  0],\n",
       "       [ 0, 12, 15, 18,  0],\n",
       "       [ 0,  0,  0,  0,  0]])"
      ]
     },
     "execution_count": 36,
     "metadata": {},
     "output_type": "execute_result"
    }
   ],
   "source": [
    "a = [[1,4,7],[2,5,8],[3,6,9]]\n",
    "b = [[10,13,16],[11,14,17],[12,15,18]]\n",
    "c = [[20,23,26],[21,24,27],[22,25,28]]\n",
    "d = np.column_stack((a,b))\n",
    "e = np.vstack((a,c))\n",
    "f = np.delete(a,[2], axis=0)\n",
    "g = np.pad(b,1)\n",
    "g"
   ]
  },
  {
   "cell_type": "code",
   "execution_count": 47,
   "id": "4ebd2ac0",
   "metadata": {},
   "outputs": [
    {
     "ename": "SyntaxError",
     "evalue": "positional argument follows keyword argument (735943310.py, line 2)",
     "output_type": "error",
     "traceback": [
      "\u001b[1;36m  File \u001b[1;32m\"C:\\Users\\user\\AppData\\Local\\Temp\\ipykernel_10680\\735943310.py\"\u001b[1;36m, line \u001b[1;32m2\u001b[0m\n\u001b[1;33m    I,J=np.meshgrid(i,j,sparse=true,indexing'ij')\u001b[0m\n\u001b[1;37m                                            ^\u001b[0m\n\u001b[1;31mSyntaxError\u001b[0m\u001b[1;31m:\u001b[0m positional argument follows keyword argument\n"
     ]
    }
   ],
   "source": [
    "i,j=np.arange(2),np.arange(5)\n",
    "I,J=np.meshgrid(i,j,sparse=true,indexing'ij')"
   ]
  },
  {
   "cell_type": "code",
   "execution_count": 49,
   "id": "102398f5",
   "metadata": {},
   "outputs": [
    {
     "data": {
      "text/plain": [
       "array([2., 1., 3., 9., 1.])"
      ]
     },
     "execution_count": 49,
     "metadata": {},
     "output_type": "execute_result"
    }
   ],
   "source": [
    "a = np.floor([2.3, 1.9,3.5, 9, 1.25])\n",
    "a"
   ]
  },
  {
   "cell_type": "code",
   "execution_count": 50,
   "id": "428607f7",
   "metadata": {},
   "outputs": [
    {
     "data": {
      "text/plain": [
       "array([2., 2., 4., 9., 1.])"
      ]
     },
     "execution_count": 50,
     "metadata": {},
     "output_type": "execute_result"
    }
   ],
   "source": [
    "a = np.round([2.3, 1.9,3.5, 9, 1.25])\n",
    "a"
   ]
  },
  {
   "cell_type": "code",
   "execution_count": 51,
   "id": "a1970bdf",
   "metadata": {},
   "outputs": [
    {
     "data": {
      "text/plain": [
       "array([3., 2., 4., 9., 2.])"
      ]
     },
     "execution_count": 51,
     "metadata": {},
     "output_type": "execute_result"
    }
   ],
   "source": [
    "a = np.ceil([2.3, 1.9,3.5, 9, 1.25])\n",
    "a"
   ]
  },
  {
   "cell_type": "code",
   "execution_count": 73,
   "id": "7496d34a",
   "metadata": {},
   "outputs": [
    {
     "name": "stdout",
     "output_type": "stream",
     "text": [
      "[[1, 2], [3, 4]]\n"
     ]
    },
    {
     "ename": "AttributeError",
     "evalue": "'list' object has no attribute 'repeat'",
     "output_type": "error",
     "traceback": [
      "\u001b[1;31m---------------------------------------------------------------------------\u001b[0m",
      "\u001b[1;31mAttributeError\u001b[0m                            Traceback (most recent call last)",
      "\u001b[1;32m~\\AppData\\Local\\Temp\\ipykernel_10680\\2948985242.py\u001b[0m in \u001b[0;36m<module>\u001b[1;34m\u001b[0m\n\u001b[0;32m      1\u001b[0m \u001b[0ma\u001b[0m \u001b[1;33m=\u001b[0m \u001b[1;33m[\u001b[0m\u001b[1;33m[\u001b[0m\u001b[1;36m1\u001b[0m\u001b[1;33m,\u001b[0m\u001b[1;36m2\u001b[0m\u001b[1;33m]\u001b[0m\u001b[1;33m,\u001b[0m\u001b[1;33m[\u001b[0m\u001b[1;36m3\u001b[0m\u001b[1;33m,\u001b[0m\u001b[1;36m4\u001b[0m\u001b[1;33m]\u001b[0m\u001b[1;33m]\u001b[0m\u001b[1;33m\u001b[0m\u001b[1;33m\u001b[0m\u001b[0m\n\u001b[0;32m      2\u001b[0m \u001b[0mprint\u001b[0m\u001b[1;33m(\u001b[0m\u001b[0ma\u001b[0m\u001b[1;33m)\u001b[0m\u001b[1;33m\u001b[0m\u001b[1;33m\u001b[0m\u001b[0m\n\u001b[1;32m----> 3\u001b[1;33m \u001b[0mb\u001b[0m \u001b[1;33m=\u001b[0m \u001b[0ma\u001b[0m\u001b[1;33m.\u001b[0m\u001b[0mrepeat\u001b[0m\u001b[1;33m(\u001b[0m\u001b[1;36m3\u001b[0m\u001b[1;33m,\u001b[0m \u001b[0maxis\u001b[0m\u001b[1;33m=\u001b[0m\u001b[1;36m1\u001b[0m\u001b[1;33m)\u001b[0m\u001b[1;33m\u001b[0m\u001b[1;33m\u001b[0m\u001b[0m\n\u001b[0m\u001b[0;32m      4\u001b[0m \u001b[0mprint\u001b[0m\u001b[1;33m(\u001b[0m\u001b[0mb\u001b[0m\u001b[1;33m)\u001b[0m\u001b[1;33m\u001b[0m\u001b[1;33m\u001b[0m\u001b[0m\n",
      "\u001b[1;31mAttributeError\u001b[0m: 'list' object has no attribute 'repeat'"
     ]
    }
   ],
   "source": [
    "a = [[1,2],[3,4]]\n",
    "print(a)\n",
    "b = a.repeat(3, axis=1)\n",
    "print(b)"
   ]
  },
  {
   "cell_type": "code",
   "execution_count": 79,
   "id": "f9d26820",
   "metadata": {},
   "outputs": [
    {
     "ename": "IndexError",
     "evalue": "index 0 is out of bounds for axis 0 with size 0",
     "output_type": "error",
     "traceback": [
      "\u001b[1;31m---------------------------------------------------------------------------\u001b[0m",
      "\u001b[1;31mIndexError\u001b[0m                                Traceback (most recent call last)",
      "\u001b[1;32m~\\AppData\\Local\\Temp\\ipykernel_10680\\591174625.py\u001b[0m in \u001b[0;36m<module>\u001b[1;34m\u001b[0m\n\u001b[0;32m      1\u001b[0m \u001b[0ma\u001b[0m \u001b[1;33m=\u001b[0m \u001b[1;33m[\u001b[0m\u001b[1;33m[\u001b[0m\u001b[1;36m1\u001b[0m\u001b[1;33m,\u001b[0m\u001b[1;36m2\u001b[0m\u001b[1;33m]\u001b[0m\u001b[1;33m,\u001b[0m\u001b[1;33m[\u001b[0m\u001b[1;36m3\u001b[0m\u001b[1;33m,\u001b[0m\u001b[1;36m4\u001b[0m\u001b[1;33m]\u001b[0m\u001b[1;33m]\u001b[0m\u001b[1;33m\u001b[0m\u001b[1;33m\u001b[0m\u001b[0m\n\u001b[1;32m----> 2\u001b[1;33m \u001b[0mnp\u001b[0m\u001b[1;33m.\u001b[0m\u001b[0mwhere\u001b[0m\u001b[1;33m(\u001b[0m\u001b[0ma\u001b[0m\u001b[1;33m==\u001b[0m\u001b[1;36m2\u001b[0m\u001b[1;33m)\u001b[0m\u001b[1;33m[\u001b[0m\u001b[1;36m0\u001b[0m\u001b[1;33m]\u001b[0m\u001b[1;33m[\u001b[0m\u001b[1;36m0\u001b[0m\u001b[1;33m]\u001b[0m\u001b[1;33m\u001b[0m\u001b[1;33m\u001b[0m\u001b[0m\n\u001b[0m\u001b[0;32m      3\u001b[0m \u001b[0mnext\u001b[0m\u001b[1;33m(\u001b[0m\u001b[0mi\u001b[0m\u001b[1;33m[\u001b[0m\u001b[1;36m0\u001b[0m\u001b[1;33m]\u001b[0m\u001b[1;32mfor\u001b[0m \u001b[0mi\u001b[0m\u001b[1;33m,\u001b[0m \u001b[0mv\u001b[0m \u001b[1;32min\u001b[0m \u001b[0mnp\u001b[0m\u001b[1;33m.\u001b[0m\u001b[0mndenumerate\u001b[0m\u001b[1;33m(\u001b[0m\u001b[0ma\u001b[0m\u001b[1;33m)\u001b[0m \u001b[1;32mif\u001b[0m \u001b[0mv\u001b[0m\u001b[1;33m==\u001b[0m\u001b[1;36m3\u001b[0m\u001b[1;33m)\u001b[0m\u001b[1;33m\u001b[0m\u001b[1;33m\u001b[0m\u001b[0m\n\u001b[0;32m      4\u001b[0m \u001b[0mnp\u001b[0m\u001b[1;33m.\u001b[0m\u001b[0msearchsorted\u001b[0m\u001b[1;33m(\u001b[0m\u001b[0ma\u001b[0m\u001b[1;33m,\u001b[0m\u001b[1;36m2\u001b[0m\u001b[1;33m)\u001b[0m\u001b[1;33m\u001b[0m\u001b[1;33m\u001b[0m\u001b[0m\n",
      "\u001b[1;31mIndexError\u001b[0m: index 0 is out of bounds for axis 0 with size 0"
     ]
    }
   ],
   "source": [
    "a = [[1,2],[3,4]]\n",
    "np.where(a==2)[0][0]\n",
    "next(i[0]for i, v in np.ndenumerate(a) if v==3)\n",
    "np.searchsorted(a,2)"
   ]
  },
  {
   "cell_type": "code",
   "execution_count": 77,
   "id": "ef8e0435",
   "metadata": {},
   "outputs": [
    {
     "name": "stdout",
     "output_type": "stream",
     "text": [
      "[[ 3  4  9 20]\n",
      " [ 2  6  9 47]\n",
      " [ 3 12  5 87]\n",
      " [48  6 30 23]]\n",
      "A l'indice 1 et 2 se trouve :  9\n",
      "Sur la ligne 1 se trouve :  [ 2  6  9 47]\n",
      "Dans la colonne 2 se trouve :  [20 47 87 23]\n",
      "Le maximum de a est :  87\n",
      "Le minimum de a est :  2\n",
      " A l'indice [:,1:3] on a : \n",
      " [[ 4  9]\n",
      " [ 6  9]\n",
      " [12  5]\n",
      " [ 6 30]]\n",
      " A l'indice [::3,0::3] on a : \n",
      " [[ 3 20]\n",
      " [48 23]]\n",
      " A l'indice a[-2:,-2:] on a : \n",
      " [[ 5 87]\n",
      " [30 23]]\n",
      "La somme du tableau a est : \n",
      " 314\n",
      "La somme des lignes du tableau a est : \n",
      " [[ 36]\n",
      " [ 64]\n",
      " [107]\n",
      " [107]]\n",
      "La somme des colonnes du tableau a est : \n",
      " [ 56  28  53 177]\n"
     ]
    }
   ],
   "source": [
    "a = np.array([[3,4,9,20],[2,6,9,47],[3,12,5,87],[48,6,30,23]])\n",
    "print(a)\n",
    "print(\"A l'indice 1 et 2 se trouve : \",a[1,2])\n",
    "print(\"Sur la ligne 1 se trouve : \",a[1,:])\n",
    "print(\"Dans la colonne 2 se trouve : \",a[:,3])\n",
    "print(\"Le maximum de a est : \",a.max())\n",
    "print(\"Le minimum de a est : \",a.min())\n",
    "print(\" A l'indice [:,1:3] on a : \\n\", a[:,1:3])\n",
    "print(\" A l'indice [::3,0::3] on a : \\n\", a[::3,0::3])\n",
    "print(\" A l'indice a[-2:,-2:] on a : \\n\", a[-2:,-2:])\n",
    "print(\"La somme du tableau a est : \\n\",a.sum())\n",
    "b = a.sum(axis=1) \n",
    "print(\"La somme des lignes du tableau a est : \\n\",b.reshape(-1,1))\n",
    "print(\"La somme des colonnes du tableau a est : \\n\",a.sum(axis=0))"
   ]
  },
  {
   "cell_type": "code",
   "execution_count": 70,
   "id": "853cef89",
   "metadata": {},
   "outputs": [
    {
     "name": "stdout",
     "output_type": "stream",
     "text": [
      "[[3 6]\n",
      " [4 4]]\n",
      "[[2 0]\n",
      " [6 7]]\n",
      "[[42 42]\n",
      " [32 28]]\n",
      "[[ 6  0]\n",
      " [24 28]]\n",
      "[[ 1  6]\n",
      " [-2 -3]]\n"
     ]
    },
    {
     "data": {
      "text/plain": [
       "(2, 2)"
      ]
     },
     "execution_count": 70,
     "metadata": {},
     "output_type": "execute_result"
    }
   ],
   "source": [
    "a = np.array([[3,6],[4,4]])\n",
    "b = np.array([[2,0],[6,7]])\n",
    "print(a)\n",
    "print(b)\n",
    "print(a@b)\n",
    "print(a*b)\n",
    "print(a-b)\n",
    "a.dtype\n",
    "a.shape"
   ]
  },
  {
   "cell_type": "code",
   "execution_count": 67,
   "id": "8d2ec0dc",
   "metadata": {},
   "outputs": [
    {
     "name": "stdout",
     "output_type": "stream",
     "text": [
      "[[ 2 54  7]\n",
      " [ 3  1  8]]\n",
      "Voici la tranposé de a : \n",
      " [[ 2  3]\n",
      " [54  1]\n",
      " [ 7  8]]\n"
     ]
    }
   ],
   "source": [
    "a = np.array([[2,54,7],[3,1,8]])\n",
    "print(a)\n",
    "print(\"Voici la tranposé de a : \\n\",a.transpose())"
   ]
  },
  {
   "cell_type": "code",
   "execution_count": null,
   "id": "0b4fe6cc",
   "metadata": {},
   "outputs": [],
   "source": []
  },
  {
   "cell_type": "code",
   "execution_count": null,
   "id": "52d8dad8",
   "metadata": {},
   "outputs": [],
   "source": []
  }
 ],
 "metadata": {
  "kernelspec": {
   "display_name": "Python 3 (ipykernel)",
   "language": "python",
   "name": "python3"
  },
  "language_info": {
   "codemirror_mode": {
    "name": "ipython",
    "version": 3
   },
   "file_extension": ".py",
   "mimetype": "text/x-python",
   "name": "python",
   "nbconvert_exporter": "python",
   "pygments_lexer": "ipython3",
   "version": "3.9.13"
  }
 },
 "nbformat": 4,
 "nbformat_minor": 5
}
