{
 "cells": [
  {
   "cell_type": "markdown",
   "metadata": {},
   "source": [
    "<h1 id=\"hierarchical_agglomerative\">Hierarchical Clustering - Agglomerative</h1>\n",
    "\n",
    "Nous examinerons une technique de clustering, qui est le <b>clustering hiérarchique agglomératif</b>. N'oubliez pas que l'approche agglomérative est l'approche ascendante. <br> \n",
    "<br>Nous utiliserons également le lien complet comme critère de lien. <br> "
   ]
  },
  {
   "cell_type": "code",
   "execution_count": 11,
   "metadata": {},
   "outputs": [],
   "source": [
    "%matplotlib inline"
   ]
  },
  {
   "cell_type": "code",
   "execution_count": 12,
   "metadata": {},
   "outputs": [],
   "source": [
    "import numpy as np \n",
    "import pandas as pd \n",
    "from matplotlib import pyplot as plt\n",
    "from scipy.cluster import hierarchy \n",
    "from scipy.spatial import distance_matrix \n",
    "from sklearn.cluster import AgglomerativeClustering \n",
    "from sklearn.datasets import make_blobs "
   ]
  },
  {
   "cell_type": "markdown",
   "metadata": {},
   "source": [
    "<hr>\n",
    "<h3 id=\"generating_data\">Générer des données aléatoires</h3>\n",
    "Nous allons générer un ensemble de données à l'aide de la classe <b>make_blobs</b>. <br> \n",
    "<ul>\n",
    "    <li> <b>n_samples</b> : le nombre total de points répartis également entre les groupes. </li>\n",
    "    <li> <b>centers</b> : le nombre de centres à générer ou les emplacements fixes des centres. </li>\n",
    "    <li> <b>cluster_std</b> : l'écart type des clusters. Plus le nombre est grand, plus les clusters sont éloignés</li>\n",
    "</ul> <br>"
   ]
  },
  {
   "cell_type": "code",
   "execution_count": 13,
   "metadata": {},
   "outputs": [
    {
     "data": {
      "text/plain": [
       "4"
      ]
     },
     "execution_count": 13,
     "metadata": {},
     "output_type": "execute_result"
    }
   ],
   "source": [
    "centers=[[4,4], [-2, -1], [1, 1], [10,4]]\n",
    "len(centers)"
   ]
  },
  {
   "cell_type": "code",
   "execution_count": 14,
   "metadata": {},
   "outputs": [],
   "source": [
    "X1, y1 = make_blobs(n_samples=50, centers=[[4,4], [-2, -1], [1, 1], [10,4]], cluster_std=1.3)"
   ]
  },
  {
   "cell_type": "code",
   "execution_count": 15,
   "metadata": {},
   "outputs": [
    {
     "data": {
      "text/plain": [
       "array([3, 0, 0, 1, 2, 2, 1, 1, 2, 0, 2, 3, 2, 1, 2, 0, 1, 0, 0, 0, 0, 2,\n",
       "       2, 2, 3, 3, 1, 1, 3, 1, 3, 0, 0, 3, 3, 0, 2, 3, 1, 2, 2, 3, 1, 1,\n",
       "       0, 0, 3, 3, 1, 1])"
      ]
     },
     "execution_count": 15,
     "metadata": {},
     "output_type": "execute_result"
    }
   ],
   "source": [
    "y1"
   ]
  },
  {
   "cell_type": "markdown",
   "metadata": {},
   "source": [
    "Le nuage de points des données générées aléatoirement."
   ]
  },
  {
   "cell_type": "code",
   "execution_count": 16,
   "metadata": {},
   "outputs": [
    {
     "data": {
      "text/plain": [
       "<matplotlib.collections.PathCollection at 0x19b7a781ee0>"
      ]
     },
     "execution_count": 16,
     "metadata": {},
     "output_type": "execute_result"
    },
    {
     "data": {
      "image/png": "[encoded data removed]",
      "text/plain": [
       "<Figure size 640x480 with 1 Axes>"
      ]
     },
     "metadata": {},
     "output_type": "display_data"
    }
   ],
   "source": [
    "plt.scatter(X1[:, 0], X1[:, 1], marker='o') "
   ]
  },
  {
   "cell_type": "markdown",
   "metadata": {},
   "source": [
    "<hr>\n",
    "<h3 id=\"agglomerative_clustering\">Agglomerative Clustering</h3>"
   ]
  },
  {
   "cell_type": "markdown",
   "metadata": {},
   "source": [
    "La classe <b> Agglomerative Clustering </b> nécessitera deux entrées :\n",
    "\n",
    "<ul>\n",
    "    <li> <b>n_clusters</b> : le nombre de clusters à former ainsi que le nombre de centroïdes à générer. </li>\n",
    "    <li> <b>linkage</b> : quel critère de liaison utiliser. Le critère de liaison détermine la distance à utiliser entre les ensembles d'observations. L'algorithme va fusionner les paires de cluster qui minimisent ce critère. </li>\n",
    "</ul>"
   ]
  },
  {
   "cell_type": "code",
   "execution_count": 17,
   "metadata": {},
   "outputs": [],
   "source": [
    "agglom = AgglomerativeClustering(n_clusters = 4, linkage = 'complete')"
   ]
  },
  {
   "cell_type": "code",
   "execution_count": 18,
   "metadata": {
    "scrolled": true
   },
   "outputs": [
    {
     "data": {
      "text/plain": [
       "AgglomerativeClustering(linkage='complete', n_clusters=4)"
      ]
     },
     "execution_count": 18,
     "metadata": {},
     "output_type": "execute_result"
    }
   ],
   "source": [
    "agglom.fit(X1,y1)"
   ]
  },
  {
   "cell_type": "code",
   "execution_count": 19,
   "metadata": {},
   "outputs": [
    {
     "data": {
      "image/png": "[encoded data removed]",
      "text/plain": [
       "<Figure size 600x400 with 1 Axes>"
      ]
     },
     "metadata": {},
     "output_type": "display_data"
    }
   ],
   "source": [
    "plt.figure(figsize=(6,4))\n",
    "\n",
    "# Ces deux lignes de code sont utilisées pour réduire les points de données,\n",
    "# Sinon, les points de données seront dispersés très loin les uns des autres.\n",
    "\n",
    "# Créez une plage minimale et maximale de X1.\n",
    "x_min, x_max = np.min(X1, axis=0), np.max(X1, axis=0)\n",
    "\n",
    "# Obtenez la distance moyenne pour X1.\n",
    "X1 = (X1 - x_min) / (x_max - x_min)\n",
    "\n",
    "# Cette boucle affiche tous les points de données.\n",
    "for i in range(X1.shape[0]):\n",
    "    # Remplacez les points de données par leur valeur de cluster respective\n",
    "    # (ex. 0) est codé par couleur avec une palette de couleurs (plt.cm.spectral)\n",
    "    plt.text(X1[i, 0], X1[i, 1], str(y1[i]),\n",
    "             color=plt.cm.nipy_spectral(agglom.labels_[i] / 10.),\n",
    "             fontdict={'weight': 'bold', 'size': 9})\n",
    "    \n",
    "# Supprimez les graduations x, les graduations y, les axes x et y\n",
    "plt.xticks([])\n",
    "plt.yticks([])\n",
    "#plt.axis('off')\n",
    "\n",
    "\n",
    "\n",
    "# Affichage du tracé des données d'origine avant le regroupement\n",
    "plt.scatter(X1[:, 0], X1[:, 1], marker='.')\n",
    "plt.show()"
   ]
  },
  {
   "cell_type": "markdown",
   "metadata": {},
   "source": [
    "<h3 id=\"dendrogram\">Dendrogramme associé pour le clustering hiérarchique agglomératif</h3>\n",
    "\n",
    "<b>Une matrice de distance</b> contient la <b> distance de chaque point à tous les autres points d'un jeu de données </b>.\n",
    "\n",
    "Utilisation de la fonction <b> distance_matrix, </b> qui nécessite <b>deux entrées</b>. \n"
   ]
  },
  {
   "cell_type": "code",
   "execution_count": 20,
   "metadata": {
    "scrolled": true
   },
   "outputs": [
    {
     "name": "stdout",
     "output_type": "stream",
     "text": [
      "[[0.         0.46277799 0.32006933 ... 0.2111253  0.71155106 0.77929363]\n",
      " [0.46277799 0.         0.47999841 ... 0.65870534 0.24906962 0.32944394]\n",
      " [0.32006933 0.47999841 0.         ... 0.48948455 0.69674481 0.79916704]\n",
      " ...\n",
      " [0.2111253  0.65870534 0.48948455 ... 0.         0.90405244 0.95983061]\n",
      " [0.71155106 0.24906962 0.69674481 ... 0.90405244 0.         0.11879549]\n",
      " [0.77929363 0.32944394 0.79916704 ... 0.95983061 0.11879549 0.        ]]\n"
     ]
    }
   ],
   "source": [
    "dist_matrix = distance_matrix(X1,X1) \n",
    "print(dist_matrix)"
   ]
  },
  {
   "cell_type": "markdown",
   "metadata": {},
   "source": [
    "A l'aide de la classe <b>linking </b> de la hiérarchie, transmission des paramètres :\n",
    "\n",
    "<ul>\n",
    "    <li> La matrice de distance </li>\n",
    "    <li> 'complete' pour une liaison complète </li>\n",
    "</ul>"
   ]
  },
  {
   "cell_type": "code",
   "execution_count": 21,
   "metadata": {},
   "outputs": [
    {
     "name": "stderr",
     "output_type": "stream",
     "text": [
      "C:\\Users\\user\\AppData\\Local\\Temp\\ipykernel_17264\\3518085107.py:1: ClusterWarning: scipy.cluster: The symmetric non-negative hollow observation matrix looks suspiciously like an uncondensed distance matrix\n",
      "  Z = hierarchy.linkage(dist_matrix, 'complete')\n"
     ]
    }
   ],
   "source": [
    "Z = hierarchy.linkage(dist_matrix, 'complete')"
   ]
  },
  {
   "cell_type": "markdown",
   "metadata": {},
   "source": [
    "* Un regroupement hiérarchique est généralement visualisé sous la forme d'un dendrogramme, comme indiqué dans la cellule suivante. Chaque fusion est représentée par une ligne horizontale. La coordonnée y de la ligne horizontale est la similarité des deux clusters qui ont été fusionnés, où les villes sont considérées comme des clusters singleton.\n",
    "En remontant de la couche inférieure au nœud supérieur, un dendrogramme nous permet de reconstruire l'historique des fusions qui ont abouti au regroupement représenté."
   ]
  },
  {
   "cell_type": "code",
   "execution_count": 22,
   "metadata": {},
   "outputs": [
    {
     "data": {
      "image/png": "[encoded data removed]",
      "text/plain": [
       "<Figure size 640x480 with 1 Axes>"
      ]
     },
     "metadata": {},
     "output_type": "display_data"
    }
   ],
   "source": [
    "dendro = hierarchy.dendrogram(Z)"
   ]
  },
  {
   "cell_type": "code",
   "execution_count": null,
   "metadata": {},
   "outputs": [],
   "source": []
  },
  {
   "cell_type": "code",
   "execution_count": null,
   "metadata": {},
   "outputs": [],
   "source": []
  }
 ],
 "metadata": {
  "kernelspec": {
   "display_name": "Python 3 (ipykernel)",
   "language": "python",
   "name": "python3"
  },
  "language_info": {
   "codemirror_mode": {
    "name": "ipython",
    "version": 3
   },
   "file_extension": ".py",
   "mimetype": "text/x-python",
   "name": "python",
   "nbconvert_exporter": "python",
   "pygments_lexer": "ipython3",
   "version": "3.9.13"
  }
 },
 "nbformat": 4,
 "nbformat_minor": 2
}
